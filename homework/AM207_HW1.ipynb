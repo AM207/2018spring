{
 "cells": [
  {
   "cell_type": "markdown",
   "metadata": {},
   "source": [
    "# Homework 1\n",
    "**Harvard University**<br>\n",
    "**Spring 2018**<br>\n",
    "**Instructors: Rahul Dave**<br>\n",
    "**Due Date: ** Thursday, Febrary 1st, 2018 at 11:59pm\n",
    "\n",
    "**Instructions:**\n",
    "\n",
    "- Upload your final answers as well as your iPython notebook containing all work to Canvas.\n",
    "\n",
    "- Structure your notebook and your work to maximize readability."
   ]
  },
  {
   "cell_type": "markdown",
   "metadata": {},
   "source": [
    "## Problem 1: Bayes Theorem\n",
    "\n",
    "**Coding not required**\n",
    "\n",
    "### Part A:\n",
    "Your child has been randomly selected for Type I diabetes screening, using a highly accurate new test that boasts of a false positive rate of 1% and a false negative rate of 0%. The prevalence of of Type I diabetes in children is approximately 0.228%. \n",
    "\n",
    "1.Should your child test positive, what is the probability that he/she has Type I diabetes?\n",
    "\n",
    "2.Should you be concerned enough to ask for further testing or treatment for your child? Suppose an independent test with the same false positive/false negative rate is available.\n",
    "\n",
    "Later, you read online that Type I diabetes is 6 times more prevalent in prematurely born children. \n",
    "\n",
    "3.If this statistic is true, what is the probability that your child, who is prematurely born, has Type I diabetes?\n",
    "\n",
    "4.Subjectively, given the new information, should you be concerned enough to ask for treatment for your child?\n",
    "\n",
    "**Justify your decisions using your calculations.**\n"
   ]
  },
  {
   "cell_type": "markdown",
   "metadata": {},
   "source": [
    "### Part B:\n",
    "\n",
    "During shopping week, you're trying to decide between two classes based on the criteria that the class must have a lenient grading system. \n",
    "\n",
    "Both classes have hard TFs who give assignments lower grades than the work merits. You know from rumors that in one class has 35% of the TF staff are harsh graders and in the other class 15% are harsh graders, but you don't know which class is which.\n",
    "\n",
    "So, you decide to conduct an experiment: submit an assignment to be graded. Fortunately, both classes offer an optional Homework 0 that is graded as extra credit. Unfortunately, you only have time to complete the problem set for just one of these classes. \n",
    "\n",
    "Suppose you randomly pick the Homework 0 from Class A to complete and suppose that you received a grade that you believe is lower than the quality of your work warrents. \n",
    "\n",
    "1. Based on this evidence, what is the probability that Class A has the harsher grading system? Which class should you drop based on the results of your experiment (or do you not have sufficient evidence to decide)?\n",
    "\n",
    "\n",
    "**Justify your decisions using your calculations.**"
   ]
  },
  {
   "cell_type": "markdown",
   "metadata": {},
   "source": [
    "## Problem 2: Maximum Likelihood Estimates\n",
    "\n",
    "**Coding required for Part B only**\n",
    "\n",
    "Suppose you observe the following data set $\\mathbf{x}^{(0)} = (0.5, 2.5), \\mathbf{x}^{(1)} = (3.2, 1.3), \\mathbf{x}^{(2)} = (2.72, 5.84), \\mathbf{x}^{(3)}= (10.047, 0.354)$. By convention, for any vector $\\mathbf{x}$, we will denote the first component of $\\mathbf{x}$ by $x_{1}$ and the second component by $x_{2}$. Suppose that the data is drawn from the same two-dimensional probability distribution with pdf $f_X$, that is, $\\mathbf{x}^{(i)} \\overset{iid}{\\sim} f_X$, where\n",
    "$$\n",
    "f_X(\\mathbf{x}) =  4\\lambda_1^2 x_{1}x_{2} \\mathrm{exp} \\left\\{-\\lambda_0 (x^2_{1} + x^2_{2}) \\right\\}.\n",
    "$$\n",
    "You should assume that $\\lambda_1, \\lambda_0 > 0$ and that $f_X$ is supported on the nonnegative quandrant of $\\mathbb{R}^2$ (i.e. $f_X$ is zero when either component is negative). \n",
    "\n",
    "### Part A:\n",
    "\n",
    "What are the values for $\\lambda_0$ and $\\lambda_1$ that maximizes the likelihood of the observed data? \n",
    "\n",
    "**Support your answer with full and rigorous analytic derivations.**\n",
    "\n",
    "### Part B:\n",
    "\n",
    "Visualize the data along with the distribution you determined in part A (in two dimensions or three).\n"
   ]
  },
  {
   "cell_type": "markdown",
   "metadata": {},
   "source": [
    "## Problem 3: Frequentist Stats\n",
    "\n",
    "**Coding required**\n",
    "\n",
    "Read the data set contained in [Homework_1_Data.txt](Homework_1_Data.txt). Each data point is a two-dimensional vector, $\\mathbf{x} = (x_1, x_2)$.\n",
    "\n",
    "### Part (A): Visualization and Interpretation\n",
    "\n",
    "1. Make a 2-D visualization the distribution of the data. \n",
    "\n",
    "1. Visualize the the pdf, $f_X$, of the underlying distribution of the data.\n",
    "\n",
    "1. Visualize the distribution defined by $f_{x_2 \\mid x_1}$ for $x_1 \\in [3.99, 4.01]$.\n",
    "\n",
    "1. Visualize the distribution defined by $f_{x_1}$.\n",
    "\n",
    "\n",
    "\n",
    "### Part (B): Estimation using bootstrap\n",
    "\n",
    "1. Empirically estimate the mean of the distribution $f_{x_1}$. Estimate, also the SE (standard error) of the estimate.\n",
    "\n",
    "1. Empirically estimate the standard deviation of the distribution $f_{x_2 \\mid x_1}$, for $x_1 \\in [3.99, 4.01]$. Estimate, also the SE (standard error) of the estimate.\n",
    "\n",
    "1. Given the SE, How many digits in your standard deviation estimate are significant? Explain why.\n",
    "\n",
    "In obtaining estimates for this problem we want you to \n",
    "\n",
    "- define a function called *get_bootstrap_sample(dataset)* to generate each bootstrap sample\n",
    "- and then another function *perform_bootstrap(dataset)* to generate all the samples. \n",
    "\n",
    "They should both take as parameters the dataset from which you'll be drawing samples. *perform_bootstrap* should call *get_bootstrap_sample* and return a sequence of bootstrap samples.  *get_bootstrap_sample* should return an individual bootstrap sample.\n",
    "\n",
    "    "
   ]
  },
  {
   "cell_type": "markdown",
   "metadata": {},
   "source": [
    "## Problem 4: Missing Data\n",
    "\n",
    "**Coding required**\n",
    "\n",
    "Missing data is a very important topic in statistics and machine learning. Let us begin to explore how to handle missing data in our analysis.  We'll be working with a dataset from the UCI Machine Learning Repository that uses a variety of wine chemical predictors to classify wines grown in the same region in Italy.  Each line represents 13 (mostly chemical) predictors of the response variable wine class, including things like alcohol content, hue, and phenols.  Unfortunately some of the predictor values were lost in measurement. Please load `wine_quality_missing.csv`.  (If pandas makes your life easier, feel free to use it).\n",
    "\n",
    "1.  One way to handle missing data is to just totally ignore it by removing any rows that have any missing values.  This is called *drop imputation*.  Use drop imputation on our wine quality dataset.  How many rows does our imputed dataset have?\n",
    "\n",
    "1. Another way to handle missing data is to replace any missing value with the mean of the non-missing values in that **column**.  This is called *mean imputation*.  How many rows does our mean imputed dataset have?\n",
    "\n",
    "1.  Empirically estimate the pdf of the distribution of the sample mean of the ash predictor under drop imputation and mean imputation. Use the perform_bootstrap function from problem 3.\n",
    "\n",
    "1. Compare the standard errors (SE) of the distributions under drop imputation and mean imputation in the previous question.  Can you suggest one or two reasons why they may be different?\n"
   ]
  },
  {
   "cell_type": "code",
   "execution_count": null,
   "metadata": {
    "collapsed": true
   },
   "outputs": [],
   "source": []
  }
 ],
 "metadata": {
  "anaconda-cloud": {},
  "kernelspec": {
   "display_name": "Python 3",
   "language": "python",
   "name": "python3"
  },
  "language_info": {
   "codemirror_mode": {
    "name": "ipython",
    "version": 3
   },
   "file_extension": ".py",
   "mimetype": "text/x-python",
   "name": "python",
   "nbconvert_exporter": "python",
   "pygments_lexer": "ipython3",
   "version": "3.6.2"
  }
 },
 "nbformat": 4,
 "nbformat_minor": 1
}
