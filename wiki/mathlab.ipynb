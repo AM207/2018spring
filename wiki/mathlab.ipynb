{
 "cells": [
  {
   "cell_type": "markdown",
   "metadata": {},
   "source": [
    "# Mathlab (TM)\n",
    "\n",
    "##### Keywords: gradient descent, integration"
   ]
  },
  {
   "cell_type": "markdown",
   "metadata": {},
   "source": [
    "Here we will go through some examples of solving math questions in calculus, vectors and matrices. We'll revisit these at other points in the course, as needed, but hopefully this notebook provides you some practice, some cheatsheet, etc\n",
    "\n",
    "A lot of the material here is taken from Daume's \"Math for machine learning\" and  Bengio's book on deep learning."
   ]
  },
  {
   "cell_type": "markdown",
   "metadata": {},
   "source": [
    "## Differential calculus\n",
    "\n",
    "The derivative of a function is the slope of the function at that point. For example, velocity is the derivative of the position.\n",
    "\n",
    "Its defined thus\n",
    "\n",
    "$$\\frac{df}{dx}\\Big{\\vert}_{x=x_0} = \\lim_{h \\to 0}\\frac{f(x_0 + h) - f(x_0)}{h}$$\n",
    "\n",
    "We'll abuse the notation $\\partial_x$ for derivative with respect to x for now, as its more concise.\n",
    "\n",
    "Some formulae:\n",
    "\n",
    "![](images/derivatives.png)\n",
    "\n",
    "Let's try."
   ]
  },
  {
   "cell_type": "markdown",
   "metadata": {},
   "source": [
    "\n",
    "**Q1.** Differentiate  $\\frac{e^x + 1}{e^{-x}}$\n"
   ]
  },
  {
   "cell_type": "markdown",
   "metadata": {},
   "source": [
    "A function is said to be **convex** if it looks like a bowl. In other words, you are guaranteed a **global** minimum. Its second derivative must be positive everywhere.\n",
    "\n",
    "A **concave function** is an inverted bowl. It has a global maximum, and its second derivative must be negative everywhere.\n",
    "\n",
    "Critical points in 1D, from Bengio.\n",
    "\n",
    "![](images/critpoints.png)\n",
    "\n",
    "**Q2.** What kind of a function is $2x^2 - 3x + 1$."
   ]
  },
  {
   "cell_type": "markdown",
   "metadata": {},
   "source": [
    "## Integral Calculus\n",
    "\n",
    "There are two separate concepts here. One is the anti-derivative, or \"find the function whose derivative I am\". The second concept is the area under the curve, also called the integral. The fundamental theorem of calculus tells us that the antiderivative is the integral. \n",
    "\n",
    "This diagram, taken from wikipedia, illustrates this theorem:\n",
    "\n",
    "![](https://upload.wikimedia.org/wikipedia/commons/e/e6/FTC_geometric.svg)"
   ]
  },
  {
   "cell_type": "markdown",
   "metadata": {},
   "source": [
    "**Q3.** Integrate  $\\int_{-\\infty}^{\\infty} e^{-x^2}$\n",
    "\n",
    "**Q4.** What is the antiderivative of $x^2$; ie $\\int x^2 dx$."
   ]
  },
  {
   "cell_type": "markdown",
   "metadata": {},
   "source": [
    "## Vectors\n",
    "\n",
    "I am going to assume that you are familiar with vectors like  ${\\bf v}$, and their dot product ${\\bf v} \\cdot {\\bf w}$. "
   ]
  },
  {
   "cell_type": "markdown",
   "metadata": {},
   "source": [
    "**Q5.** Write down the vector which has equal weight in all three directions, and is a unit vector (ie of length 1.)"
   ]
  },
  {
   "cell_type": "markdown",
   "metadata": {},
   "source": [
    "You can learn much more about vectors here http://www.feynmanlectures.caltech.edu/I_11.html ."
   ]
  },
  {
   "cell_type": "markdown",
   "metadata": {},
   "source": [
    "## Multidimensional Calculus\n",
    "\n",
    "This is where the partial symbol comes into its own. If $f$ is a function like $x^2 + y^2$, you can take derivatives with respect to both x and y, which gives us:\n",
    "\n",
    "$$\\frac{\\partial{f}}{\\partial{x}} = 2x$$\n"
   ]
  },
  {
   "cell_type": "markdown",
   "metadata": {},
   "source": [
    "You can combine partials into a vector. This vector is known as the gradient vector\n",
    "\n",
    "$$\\nabla f = (2x, 2y)$$\n",
    "\n",
    "The gradient will always give you the direction of the greatest change of a function. Why is this?"
   ]
  },
  {
   "cell_type": "markdown",
   "metadata": {},
   "source": [
    "** Q6.** Compute the gradient of $f(\\mathbf{w}) = \\mathbf{w}^T\\mathbf{w}$"
   ]
  },
  {
   "cell_type": "markdown",
   "metadata": {},
   "source": [
    "## The Jacobian and the Hessian\n",
    "\n",
    "We saw the Jacobian in class. The Hessian is a matrix of second derivatives, and can be used to probe curvature\n",
    "\n",
    "**Q7.** Calculate the Hessian of $$f(x) = x_1^2 + x_2^2$$."
   ]
  },
  {
   "cell_type": "markdown",
   "metadata": {},
   "source": [
    "## Continuity\n",
    "\n",
    "**Q8.** What is the derivative of $f(x) = \\vert x \\vert$. \n",
    "\n",
    "**Q9.** What is the derivative of the step function which is 0 for all x less than 0 and 1 otherwise"
   ]
  },
  {
   "cell_type": "markdown",
   "metadata": {},
   "source": [
    "## Taylor Series\n",
    "\n",
    "The taylor series expansion for a function about a point a is given as\n",
    "\n",
    "$$f(x) = \\sum_i  \\frac{f^{(n)}(x-a)}{n!}x^n$$\n",
    "\n",
    "where $f^{(n)}$ is the nth derivative.\n",
    "\n",
    "**Q10** Show that the ikelihood function of one parameter $\\theta$ is normally distributed near its maximum."
   ]
  }
 ],
 "metadata": {
  "anaconda-cloud": {},
  "kernelspec": {
   "display_name": "Python 3",
   "language": "python",
   "name": "python3"
  },
  "language_info": {
   "codemirror_mode": {
    "name": "ipython",
    "version": 3
   },
   "file_extension": ".py",
   "mimetype": "text/x-python",
   "name": "python",
   "nbconvert_exporter": "python",
   "pygments_lexer": "ipython3",
   "version": "3.6.1"
  }
 },
 "nbformat": 4,
 "nbformat_minor": 1
}
