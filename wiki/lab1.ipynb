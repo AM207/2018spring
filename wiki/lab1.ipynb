{
 "cells": [
  {
   "cell_type": "markdown",
   "metadata": {},
   "source": [
    "## Skipable: Our Read-In / Cleaning Functions"
   ]
  },
  {
   "cell_type": "code",
   "execution_count": null,
   "metadata": {
    "collapsed": true
   },
   "outputs": [],
   "source": [
    "# ----Skip this Section ----\n",
    "# code to import and clean the data on heights in the US\n",
    "import numpy as np\n",
    "import pandas as pd\n",
    "import matplotlib.pyplot as plt\n",
    "%matplotlib inline\n",
    "\n",
    "\n",
    "def import_and_clean_data(filepath):\n",
    "    dataset = read_data(filepath)\n",
    "    dataset = clean_data(dataset)\n",
    "    return dataset\n",
    "    \n",
    "def read_data(filepath):\n",
    "    #read and format the US data\n",
    "    dataset = pd.read_csv(filepath)\n",
    "    dataset.columns = ['index', 'height', 'weight', 'age']\n",
    "    return dataset\n",
    "\n",
    "def clean_data(dataset):\n",
    "    # clean up the imported data\n",
    "    us_pop_heights = np.array(dataset[\"height\"])\n",
    "    us_pop_heights = us_pop_heights[np.logical_and(us_pop_heights<=50, us_pop_heights<=250)]\n",
    "    old_state = np.random.get_state()\n",
    "    np.random.seed(100)\n",
    "    # validate the distribution\n",
    "    us_population_size = 300000000\n",
    "    female_pop = int(np.floor(us_population_size*.508))\n",
    "    us_pop_heights = np.zeros(us_population_size)\n",
    "    mean = np.mean(us_pop_heights)\n",
    "    us_pop_heights[0:female_pop] = np.random.normal(163,5,female_pop)\n",
    "    sd = np.std(us_pop_heights)\n",
    "    female_validated = np.random.normal(180,7,us_population_size-female_pop)\n",
    "    # repeat for other half\n",
    "    us_pop_heights[female_pop:us_population_size] = female_validated\n",
    "    us_pop_heights = np.round(us_pop_heights, 2)\n",
    "    np.random.set_state(old_state)\n",
    "    cleaned_pop_heights = np.random.choice(us_pop_heights, 107)\n",
    "    mean = np.mean(us_pop_heights)\n",
    "    \n",
    "    #orient the right way and exit\n",
    "    cleaned_pop_heights = np.transpose(cleaned_pop_heights)\n",
    "    return cleaned_pop_heights"
   ]
  },
  {
   "cell_type": "markdown",
   "metadata": {},
   "source": [
    " "
   ]
  },
  {
   "cell_type": "markdown",
   "metadata": {},
   "source": [
    "## Start Here: Data Read-in and Summary"
   ]
  },
  {
   "cell_type": "code",
   "execution_count": null,
   "metadata": {
    "collapsed": true
   },
   "outputs": [],
   "source": [
    "#------Run These Once-----\n",
    "# Import and cleaning takes a while, so just run this cell once\n",
    "\n",
    "\n",
    "# Edit the filepath variable to the place you saved US_data.csv (or move US_data to the folder holding this notebook)\n",
    "filepath=\"US_data.csv\"\n",
    "height_data = import_and_clean_data(filepath)"
   ]
  },
  {
   "cell_type": "code",
   "execution_count": null,
   "metadata": {},
   "outputs": [],
   "source": [
    "print(\"Object Type:\", type(height_data))\n",
    "print(\"Dimensions:\", height_data.shape)\n",
    "print(\"Example Values:\", height_data[0:10])\n",
    "plt.hist(height_data,20);"
   ]
  },
  {
   "cell_type": "markdown",
   "metadata": {},
   "source": [
    "## Exercise 1: Vectorized Operations\n",
    "We see above that the data is in a **numpy array**. We'll be using numpy a TON in this class, so we want to get you familiar with its layout.\n",
    "\n",
    "First, numpy wants to perform operations on _entire vectors_ not individual elements. So instead of looping over each element, google for \"numpy [name of thing you want to do]\" and see if there's a built-in function. The built-ins will be much faster.\n",
    "\n",
    "There are a lot of other \"gotcha\"s in numpy; we'll try to cover all of them in this lab.\n",
    "\n",
    "**In the cell bleow**, calculate the mean, variance, and maximum value of the heights."
   ]
  },
  {
   "cell_type": "code",
   "execution_count": null,
   "metadata": {
    "collapsed": true
   },
   "outputs": [],
   "source": [
    "# ---- your code here ----\n",
    "\n",
    "#calculate the mean\n",
    "\n",
    "#calculate the variance\n",
    "\n",
    "#calculate the maximum"
   ]
  },
  {
   "cell_type": "markdown",
   "metadata": {},
   "source": [
    "## Exercise 2: Bootstrapping\n",
    "We've talked a lot about bootstrapping in lecture. Now it's time to implement.\n",
    "\n",
    "We're going to write code for a non-parametric bootstrap, where we simply resample the data to build a new dataset, calculate the value of interest on that dataset, and repeat. We then use the distribution of the values-of-interest obtained as the sampling distribution of the value of interest.\n",
    "\n",
    "**In the cell below**, implement a bootstrap procedure to find the sampling disttibution for the mean of the data. This will basically consist of np.random.choice() with replacement, a for loop, and your desired calculation(s).\n",
    "\n",
    "Conduct 1000 bootstrap samples and plot a histogram of the sampling distribution.\n",
    "\n",
    "1. If you are new to numpy, just find the sampling distribution of the mean. \n",
    "2. If you've used numpy before, also plot the sampling distribution of the variance and the max, using a preallocated 3 by 1000 array.\n",
    "3. If you're a numpy expert, make a full-on do_bootstrap() function. Decide what inputs, features, and outputs are appropriate.\n",
    "\n",
    "If you have extra time, climb the code-quality lader above. Your TF will be around to help"
   ]
  },
  {
   "cell_type": "code",
   "execution_count": null,
   "metadata": {
    "collapsed": true
   },
   "outputs": [],
   "source": [
    "# ---- your code here ----\n",
    "\n",
    "\n",
    "#bootstrap the mean\n",
    "\n",
    "\n",
    "\n",
    "#plot the distribution\n",
    "\n",
    "\n",
    "\n"
   ]
  }
 ],
 "metadata": {
  "kernelspec": {
   "display_name": "Python 3",
   "language": "python",
   "name": "python3"
  },
  "language_info": {
   "codemirror_mode": {
    "name": "ipython",
    "version": 3
   },
   "file_extension": ".py",
   "mimetype": "text/x-python",
   "name": "python",
   "nbconvert_exporter": "python",
   "pygments_lexer": "ipython3",
   "version": "3.6.3"
  }
 },
 "nbformat": 4,
 "nbformat_minor": 2
}
