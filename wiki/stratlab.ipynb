{
 "cells": [
  {
   "cell_type": "markdown",
   "metadata": {},
   "source": [
    "# Stratification Example\n",
    "\n",
    "##### Keywords: variance reduction, stratification, "
   ]
  },
  {
   "cell_type": "code",
   "execution_count": 2,
   "metadata": {},
   "outputs": [
    {
     "name": "stdout",
     "output_type": "stream",
     "text": [
      "Finished Setup\n"
     ]
    }
   ],
   "source": [
    "%matplotlib inline\n",
    "import numpy as np\n",
    "import matplotlib.pyplot as plt\n",
    "import seaborn as sns\n",
    "print(\"Finished Setup\")"
   ]
  },
  {
   "cell_type": "markdown",
   "metadata": {},
   "source": [
    "The key idea in stratification is to split the domain on which we wish to calculate an expectation or integral into strata. Then, on each of these strata, we calculate the sub-integral as an expectation separately, using whatever method is appropriate for the stratum, and which gives us the lowest variance. These expectations are then combined together to get the final value.\n",
    "\n",
    "In other words we can achieve better sampling in needed regions by going away from a one size fits all sampling scheme. One way to think about it is that regions with higher variability might need more samples, while not-so-varying regions could make do with less.\n",
    "\n",
    "The diagram below illustrates this a bit. One could stratify by staying on the given grid, but the blue and yellow strata we have chosen might be better.\n",
    "\n",
    "![](images/strat.png)\n",
    "\n"
   ]
  },
  {
   "cell_type": "markdown",
   "metadata": {},
   "source": [
    "Now, instead of taking $N$ samples, we break the interval into $M$ _strata_ and take $n_j$ samples for each\n",
    "strata $j$, such that $N=\\sum_j n_j$.\n",
    "\n",
    "Defining:\n",
    "\n",
    "$$\\hat{\\mu_j} = \\frac{1}{n_j} \\sum_{x_ij \\sim f_j} h(x_ij).$$"
   ]
  },
  {
   "cell_type": "markdown",
   "metadata": {},
   "source": [
    "We can then define the stratified estimator of the overall expectation\n",
    "\n",
    "$$\\hat{\\mu_s} = \\sum_j p_j \\hat{\\mu_j}.$$\n",
    "\n",
    "which is an unbiased estimator of $\\mu$. "
   ]
  },
  {
   "cell_type": "markdown",
   "metadata": {},
   "source": [
    "$$Var_R[\\hat{\\mu_s}] =  Var_R[\\sum_j p_j \\hat{\\mu_j}] =  \\sum_j p_j^2 Var_R[\\hat{\\mu_j}] =  \\sum_j p_j^2 \\frac{\\sigma_j^2}{n_j} $$\n",
    "\n",
    "where\n",
    "\n",
    "$$\\sigma_j^2 = \\int_{D_j}  (h(x) - \\mu_j)^2 f_j(x) dx $$\n",
    "\n",
    "is the \"population variance\" of $h(x)$ with respect to pdf $f_j(x)$ in region of support $D_j$."
   ]
  },
  {
   "cell_type": "markdown",
   "metadata": {},
   "source": [
    "## Example\n",
    "\n",
    "For a  one-dimensional application we take $ x/(x^2+1)$ and integrate from $[0,1]$.\n",
    "We break $[0,10]$ into $M$ strata and for each stratum, take $N/M$ samples\n",
    "with uniform probability distribution. Compute the average within each \n",
    "stratum, and then calculate the overall average. \n",
    "\n",
    "See http://www.public.iastate.edu/~mervyn/stat580/Notes/s09mc.pdf"
   ]
  },
  {
   "cell_type": "code",
   "execution_count": 13,
   "metadata": {},
   "outputs": [
    {
     "name": "stdout",
     "output_type": "stream",
     "text": [
      "[ 0.14107667  0.03162259  0.02940649  0.01900292  0.01271643  0.00895477\n",
      "  0.00630853  0.00543713  0.00386624  0.00336021] [5390 1209 1124  726  486  343  242  208  148  129]\n",
      "0.0125753143692 0.00513272712475 0.00266425558846\n"
     ]
    },
    {
     "data": {
      "image/png": "[encoded data removed]",
      "text/plain": [
       "<matplotlib.figure.Figure at 0x11d214b38>"
      ]
     },
     "metadata": {},
     "output_type": "display_data"
    }
   ],
   "source": [
    "plt.figure(figsize=[14,8])\n",
    "Y = lambda x: x/(x**2+1.0);\n",
    "intY = lambda x: np.log(x**2 + 1.0)/2.0;\n",
    "\n",
    "\n",
    "\n",
    "N = 10000\n",
    "Nrep = 1000\n",
    "Ntry = 1000\n",
    "Ns = 10   # number of strata \n",
    "\n",
    "xmin=0\n",
    "xmax =10\n",
    "step = (xmax - xmin)/Ns\n",
    "# analytic solution \n",
    "Ic = intY(xmax)-intY(xmin)\n",
    "\n",
    "\n",
    "Imc = np.zeros(Nrep)\n",
    "Is = np.zeros(Nrep)\n",
    "Is2 = np.zeros(Nrep)\n",
    "\n",
    "## Ploting the original functions \n",
    "plt.subplot(1,2,1)\n",
    "x = np.linspace(0,10,100)\n",
    "plt.plot(x, Y(x), label=u'$x/(x**2+1)$')\n",
    "for j in range(Ns+1):\n",
    "    plt.axvline(xmin + j*step, 0, 1, color='r', alpha=0.2)\n",
    "    \n",
    "sigmas = np.zeros(Ns)\n",
    "Utry = np.random.uniform(low=xmin, high=xmax, size=Ntry)\n",
    "Ytry = Y(Utry)\n",
    "Umin = 0 \n",
    "Umax = step\n",
    "for reg in np.arange(0,Ns):\n",
    "    localmask = (Utry >= Umin) & (Utry < Umax)\n",
    "    sigmas[reg] = np.std(Ytry[localmask])\n",
    "    Umin = Umin + step\n",
    "    Umax = Umin + step\n",
    "nums = np.ceil(N*sigmas/np.sum(sigmas)).astype(int)\n",
    "print(sigmas, nums)\n",
    "    \n",
    "for k in np.arange(0,Nrep):\n",
    "    # First lets do it with mean MC method \n",
    "    U = np.random.uniform(low=xmin, high=xmax, size=N)\n",
    "    Imc[k] = (xmax-xmin)* np.mean(Y(U))\n",
    "\n",
    "    #stratified it in Ns regions\n",
    "    Umin = 0 \n",
    "    Umax = step\n",
    "    Ii = 0\n",
    "    I2i = 0\n",
    "    for reg in np.arange(0,Ns):\n",
    "        x = np.random.uniform(low=Umin, high=Umax, size=N//Ns);\n",
    "        Ii = Ii + (Umax-Umin)*np.mean(Y(x))\n",
    "        x2 = np.random.uniform(low=Umin, high=Umax, size=nums[reg]);\n",
    "        I2i = I2i + (Umax-Umin)*np.mean(Y(x2))\n",
    "        Umin = Umin + step\n",
    "        Umax = Umin + step\n",
    "\n",
    "\n",
    "    Is[k] = Ii\n",
    "    Is2[k] = I2i\n",
    "\n",
    "plt.subplot(1,2,2)\n",
    "plt.hist(Imc,30, histtype='stepfilled', label=u'Normal MC', alpha=0.1)\n",
    "plt.hist(Is, 30, histtype='stepfilled', label=u'Stratified', alpha=0.3)\n",
    "plt.hist(Is2, 30, histtype='stepfilled', label=u'Stratified (sigmaprop)', alpha=0.5)\n",
    "\n",
    "\n",
    "plt.legend()\n",
    "\n",
    "print(np.std(Imc), np.std(Is), np.std(Is2))"
   ]
  }
 ],
 "metadata": {
  "anaconda-cloud": {},
  "celltoolbar": "Edit Metadata",
  "kernelspec": {
   "display_name": "Python 3",
   "language": "python",
   "name": "python3"
  },
  "language_info": {
   "codemirror_mode": {
    "name": "ipython",
    "version": 3
   },
   "file_extension": ".py",
   "mimetype": "text/x-python",
   "name": "python",
   "nbconvert_exporter": "python",
   "pygments_lexer": "ipython3",
   "version": "3.6.1"
  }
 },
 "nbformat": 4,
 "nbformat_minor": 1
}
