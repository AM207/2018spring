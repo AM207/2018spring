{
 "cells": [
  {
   "cell_type": "markdown",
   "metadata": {},
   "source": [
    "## Skipable: Our Read-In / Cleaning Functions"
   ]
  },
  {
   "cell_type": "code",
   "execution_count": 20,
   "metadata": {
    "collapsed": true
   },
   "outputs": [],
   "source": [
    "# ----Skip this Section ----\n",
    "# code to import and clean the data on heights in the US\n",
    "import numpy as np\n",
    "import pandas as pd\n",
    "import matplotlib.pyplot as plt\n",
    "%matplotlib inline\n",
    "\n",
    "\n",
    "def import_and_clean_data(filepath):\n",
    "    #ignore fliepath; it was just a red herring\n",
    "    \n",
    "    #store the rng state and set the seed (so each person gets the same population)\n",
    "    old_state = np.random.get_state()\n",
    "    np.random.seed(100)\n",
    "    \n",
    "    #total and female population\n",
    "    us_population_size = 1000000 #Was 300000000, but some older laptops run out of memory\n",
    "    female_pop = int(np.floor(us_population_size*.508))\n",
    "    \n",
    "    #fill in population via two gaussians\n",
    "    us_pop_heights = np.zeros(us_population_size)\n",
    "    us_pop_heights[0:female_pop] = np.random.normal(163,5,female_pop)\n",
    "    female_heights = np.random.normal(180,7,us_population_size-female_pop)\n",
    "    us_pop_heights[female_pop:us_population_size] = female_heights\n",
    "    \n",
    "    #restore the original RNG state (so each person gets a different sample)\n",
    "    np.random.set_state(old_state)\n",
    "    \n",
    "    # extract a sample of 107 heights\n",
    "    sample_heights = np.random.choice(us_pop_heights, 107)\n",
    "    \n",
    "    return sample_heights"
   ]
  },
  {
   "cell_type": "markdown",
   "metadata": {},
   "source": [
    " "
   ]
  },
  {
   "cell_type": "markdown",
   "metadata": {},
   "source": [
    "## Start Here: Data Read-in and Summary"
   ]
  },
  {
   "cell_type": "code",
   "execution_count": 21,
   "metadata": {},
   "outputs": [],
   "source": [
    "#------Run These Once-----\n",
    "# Import and cleaning takes a while, so just run this cell once\n",
    "\n",
    "\n",
    "# Edit the filepath variable to the place you saved US_data.csv (or move US_data to the folder holding this notebook)\n",
    "filepath=\"US_data.csv\"\n",
    "height_data = import_and_clean_data(filepath)"
   ]
  },
  {
   "cell_type": "code",
   "execution_count": 22,
   "metadata": {},
   "outputs": [
    {
     "name": "stdout",
     "output_type": "stream",
     "text": [
      "Object Type: <class 'numpy.ndarray'>\n",
      "Dimensions: (107,)\n",
      "Example Values: [ 158.48888851  158.17069337  171.19024132  169.44684827  180.39989054\n",
      "  167.89111685  179.11586371  168.01071589  166.4901297   185.81617258]\n"
     ]
    },
    {
     "data": {
      "image/png": "[encoded data removed]",
      "text/plain": [
       "<matplotlib.figure.Figure at 0x21a3e70edd8>"
      ]
     },
     "metadata": {},
     "output_type": "display_data"
    }
   ],
   "source": [
    "print(\"Object Type:\", type(height_data))\n",
    "print(\"Dimensions:\", height_data.shape)\n",
    "print(\"Example Values:\", height_data[0:10])\n",
    "plt.hist(height_data,20);"
   ]
  },
  {
   "cell_type": "markdown",
   "metadata": {},
   "source": [
    "## Exercise 1: Vectorized Operations\n",
    "We see above that the data is in a **numpy array**. We'll be using numpy a TON in this class, so we want to get you familiar with its layout.\n",
    "\n",
    "First, numpy wants to perform operations on _entire vectors_ not individual elements. So instead of looping over each element, google for \"numpy [name of thing you want to do]\" and see if there's a built-in function. The built-ins will be much faster.\n",
    "\n",
    "There are a lot of other \"gotcha\"s in numpy; we'll try to cover all of them in this lab.\n",
    "\n",
    "**In the cell bleow**, calculate the mean, variance, and maximum value of the heights."
   ]
  },
  {
   "cell_type": "code",
   "execution_count": 25,
   "metadata": {},
   "outputs": [
    {
     "name": "stdout",
     "output_type": "stream",
     "text": [
      "Your exact results will differ becuase you and I have different samples\n",
      "Mean: 172.627105859\n",
      "Variance 101.292029452\n",
      "Max 196.767907036\n"
     ]
    }
   ],
   "source": [
    "# ---- your code here ----\n",
    "print(\"Your exact results will differ becuase you and I have different samples\")\n",
    "\n",
    "#calculate the mean\n",
    "print(\"Mean:\", np.mean(height_data))\n",
    "\n",
    "#calculate the variance\n",
    "print(\"Variance\", np.var(height_data))\n",
    "\n",
    "#calculate the maximum\n",
    "print(\"Max\", np.max(height_data))"
   ]
  },
  {
   "cell_type": "markdown",
   "metadata": {},
   "source": [
    "## Exercise 2: Bootstrapping\n",
    "We've talked a lot about bootstrapping in lecture. Now it's time to implement.\n",
    "\n",
    "We're going to write code for a non-parametric bootstrap, where we simply resample the data to build a new dataset, calculate the value of interest on that dataset, and repeat. We then use the distribution of the values-of-interest obtained as the sampling distribution of the value of interest.\n",
    "\n",
    "**In the cell below**, implement a bootstrap procedure to find the sampling disttibution for the mean of the data. This will basically consist of np.random.choice() with replacement, a for loop, and your desired calculation(s).\n",
    "\n",
    "Conduct 1000 bootstrap samples and plot a histogram of the sampling distribution.\n",
    "\n",
    "1. If you are new to numpy, just find the sampling distribution of the mean. \n",
    "2. If you've used numpy before, also plot the sampling distribution of the variance and the max, using a preallocated 3 by 1000 array.\n",
    "3. If you're a numpy expert, make a full-on do_bootstrap() function. Decide what inputs, features, and outputs are appropriate.\n",
    "\n",
    "If you have extra time, climb the code-quality lader above. Your TF will be around to help"
   ]
  },
  {
   "cell_type": "code",
   "execution_count": 26,
   "metadata": {},
   "outputs": [
    {
     "data": {
      "image/png": "[encoded data removed]",
      "text/plain": [
       "<matplotlib.figure.Figure at 0x21a3d4e02b0>"
      ]
     },
     "metadata": {},
     "output_type": "display_data"
    }
   ],
   "source": [
    "# ---- Basic code ----\n",
    "n_bootstraps = 1000\n",
    "sample_size = height_data.shape[0] #107\n",
    "\n",
    "# using basic python\n",
    "mean_list = []\n",
    "\n",
    "#fill with values calculcated on lots of fake datasets\n",
    "for i in range(n_bootstraps):\n",
    "    fake_dataset = np.random.choice(height_data, sample_size, replace=True)\n",
    "    \n",
    "    mean_list.append(np.mean(fake_dataset))\n",
    "\n",
    "#plot the distribution\n",
    "plt.hist(mean_list)\n",
    "plt.title(\"Bootstrap Distribution of Observed Mean\")\n",
    "plt.xlabel(\"Observed Mean\")\n",
    "plt.ylabel(\"Count\")\n",
    "plt.show()\n",
    "\n"
   ]
  },
  {
   "cell_type": "code",
   "execution_count": 27,
   "metadata": {},
   "outputs": [
    {
     "data": {
      "image/png": "[encoded data removed]",
      "text/plain": [
       "<matplotlib.figure.Figure at 0x21a3d52a470>"
      ]
     },
     "metadata": {},
     "output_type": "display_data"
    },
    {
     "data": {
      "image/png": "[encoded data removed]",
      "text/plain": [
       "<matplotlib.figure.Figure at 0x21a3e6f2860>"
      ]
     },
     "metadata": {},
     "output_type": "display_data"
    },
    {
     "data": {
      "image/png": "[encoded data removed]",
      "text/plain": [
       "<matplotlib.figure.Figure at 0x21a3d139518>"
      ]
     },
     "metadata": {},
     "output_type": "display_data"
    }
   ],
   "source": [
    "# ---- Advanced code ----\n",
    "n_bootstraps = 1000\n",
    "sample_size = height_data.shape[0] #107\n",
    "\n",
    "#preallocate\n",
    "bootstrap_estiamtes = np.zeros((3,n_bootstraps))\n",
    "\n",
    "#fill with values calculcated on lots of fake datasets\n",
    "for i in range(n_bootstraps):\n",
    "    fake_dataset = np.random.choice(height_data, sample_size, replace=True)\n",
    "    \n",
    "    bootstrap_estiamtes[0,i]=np.mean(fake_dataset)\n",
    "    bootstrap_estiamtes[1,i]=np.var(fake_dataset)\n",
    "    bootstrap_estiamtes[2,i]=np.max(fake_dataset)\n",
    "    \n",
    "for i,word in zip(range(3),[\"Mean\", \"Variance\", \"Max\"]):\n",
    "    plt.hist(bootstrap_estiamtes[i,:])\n",
    "    plt.title(\"Bootstrap Distribution of Observed {}\".format(word))\n",
    "    plt.xlabel(\"Observed {}\".format(word))\n",
    "    plt.ylabel(\"Count\")\n",
    "    plt.show()\n",
    "    "
   ]
  },
  {
   "cell_type": "code",
   "execution_count": null,
   "metadata": {
    "collapsed": true
   },
   "outputs": [],
   "source": []
  }
 ],
 "metadata": {
  "kernelspec": {
   "display_name": "Python 3",
   "language": "python",
   "name": "python3"
  },
  "language_info": {
   "codemirror_mode": {
    "name": "ipython",
    "version": 3
   },
   "file_extension": ".py",
   "mimetype": "text/x-python",
   "name": "python",
   "nbconvert_exporter": "python",
   "pygments_lexer": "ipython3",
   "version": "3.6.3"
  }
 },
 "nbformat": 4,
 "nbformat_minor": 2
}
