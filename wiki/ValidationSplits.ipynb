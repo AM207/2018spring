{
 "cells": [
  {
   "cell_type": "markdown",
   "metadata": {},
   "source": [
    "# Lab 4 -- Validation Splits and DataLoaders in PyTorch\n",
    "\n",
    "## AMPTH 207: Stochastic Methods for Data Analysis, Inference and Optimization\n",
    "\n",
    "**Subtopic:** Train/Validation splits on DataLoaders in PyTorch\n",
    "\n",
    "**Instructor:** Rahul Dave\n",
    "\n",
    "**Blame:** Any blame for any errors in this document goes to Patrick"
   ]
  },
  {
   "cell_type": "code",
   "execution_count": 42,
   "metadata": {
    "collapsed": true
   },
   "outputs": [],
   "source": [
    "from IPython.lib.display import YouTubeVideo\n",
    "\n",
    "import numpy as np\n",
    "import torch\n",
    "import torchvision\n",
    "from torchvision import datasets, transforms\n",
    "from torch.utils.data import Dataset\n",
    "from torch.utils.data.sampler import SubsetRandomSampler\n",
    "from torch.utils.data.sampler import SubsetRandomSampler"
   ]
  },
  {
   "cell_type": "markdown",
   "metadata": {},
   "source": [
    "### Defining our Dataset\n",
    "\n",
    "We'll start by defining a dataset not too disimilar to MNIST but a lot simpler.  We replace our (28, 28, 1) ndarrays with (2, 2, 1) versions.  We also implement the ability to handle transforms just so our class fits in with the MNIST-like Dataset/DataLoader scaffolding in torch/torchvision."
   ]
  },
  {
   "cell_type": "code",
   "execution_count": 18,
   "metadata": {
    "collapsed": true
   },
   "outputs": [],
   "source": [
    "class MyCustomPixelDataset(Dataset):\n",
    "    \"\"\"\n",
    "    This dataset is a toy dataset that acts like 2x2 version of MNIST\n",
    "    with the trace as labels.\n",
    "    \"\"\"\n",
    "    def __init__(self, size=1, transform=None):\n",
    "        super(MyCustomPixelDataset, self).__init__()\n",
    "        \n",
    "        # size determines length of dataset\n",
    "        self.size = size\n",
    "        \n",
    "        # generate random 2x2 matrices with values in [0, 255]\n",
    "        self.matrices = [np.random.randint(256, size=(2, 2)) for i in range(self.size)]\n",
    "        \n",
    "        # our dataset will be a list of (ndarray, label) tuples where the label is the trace\n",
    "        # reshape our matrices into (2x2x1) ndarrays so that transforms.ToTensor()\n",
    "        # has the appropriate expected shape\n",
    "        self.matrices = [(np.reshape(np.array([matrix]), (2,2,1)), np.trace(matrix)) for matrix in self.matrices]\n",
    "        \n",
    "        # if we're passed a transform then apply it to the first element of our tuple (the input)\n",
    "        if transform:\n",
    "            self.matrices = [(transform(element[0]), element[1]) for element in self.matrices]\n",
    "        \n",
    "    # length should just be the size although we don't validate size (i.e. should be an int > 0)\n",
    "    def __len__(self):\n",
    "        return self.size\n",
    "    \n",
    "    # implement __getitem__ as the indexed tuple \n",
    "    def __getitem__(self, index):\n",
    "        #assert 0 <= index <= self.b - self.a\n",
    "        \n",
    "        return self.matrices[index]"
   ]
  },
  {
   "cell_type": "markdown",
   "metadata": {},
   "source": [
    "**If we look at an example small instance of our dataset, we see that it correctly handles the transforms.ToTensor() operation and matches the structure of the MNIST dataset although we have scalar labels as the trace of the original random 2x2 matrix**"
   ]
  },
  {
   "cell_type": "code",
   "execution_count": 26,
   "metadata": {},
   "outputs": [],
   "source": [
    "mydset = MyCustomPixelDataset(12,transform=transforms.ToTensor())"
   ]
  },
  {
   "cell_type": "code",
   "execution_count": 27,
   "metadata": {},
   "outputs": [
    {
     "data": {
      "text/plain": [
       "[(\n",
       "  (0 ,.,.) = \n",
       "    0.1020  0.5059\n",
       "    0.8706  0.4314\n",
       "  [torch.FloatTensor of size 1x2x2], 136), (\n",
       "  (0 ,.,.) = \n",
       "    0.8000  0.4627\n",
       "    0.3373  0.1529\n",
       "  [torch.FloatTensor of size 1x2x2], 243), (\n",
       "  (0 ,.,.) = \n",
       "    0.5922  0.5765\n",
       "    0.4745  0.0471\n",
       "  [torch.FloatTensor of size 1x2x2], 163), (\n",
       "  (0 ,.,.) = \n",
       "    0.1725  0.2627\n",
       "    0.9294  0.5765\n",
       "  [torch.FloatTensor of size 1x2x2], 191), (\n",
       "  (0 ,.,.) = \n",
       "    0.4314  0.8667\n",
       "    0.1412  0.7922\n",
       "  [torch.FloatTensor of size 1x2x2], 312), (\n",
       "  (0 ,.,.) = \n",
       "    0.7373  0.4000\n",
       "    0.3216  0.5725\n",
       "  [torch.FloatTensor of size 1x2x2], 334), (\n",
       "  (0 ,.,.) = \n",
       "    0.3333  0.2745\n",
       "    0.4706  0.7882\n",
       "  [torch.FloatTensor of size 1x2x2], 286), (\n",
       "  (0 ,.,.) = \n",
       "    0.8510  0.0667\n",
       "    0.3725  0.6000\n",
       "  [torch.FloatTensor of size 1x2x2], 370), (\n",
       "  (0 ,.,.) = \n",
       "    0.3412  0.0784\n",
       "    0.9922  0.9490\n",
       "  [torch.FloatTensor of size 1x2x2], 329), (\n",
       "  (0 ,.,.) = \n",
       "    0.5647  0.9020\n",
       "    0.7137  0.3490\n",
       "  [torch.FloatTensor of size 1x2x2], 233), (\n",
       "  (0 ,.,.) = \n",
       "    0.2392  0.5647\n",
       "    0.1490  0.6196\n",
       "  [torch.FloatTensor of size 1x2x2], 219), (\n",
       "  (0 ,.,.) = \n",
       "    0.8588  0.3569\n",
       "    0.8784  0.8627\n",
       "  [torch.FloatTensor of size 1x2x2], 439)]"
      ]
     },
     "execution_count": 27,
     "metadata": {},
     "output_type": "execute_result"
    }
   ],
   "source": [
    "mydset[:]"
   ]
  },
  {
   "cell_type": "markdown",
   "metadata": {},
   "source": [
    "### Defining our DataLoader\n",
    "\n",
    "We'll now define a DataLoader with a batch_size of 4 and shuffle set to be True.  If things go as expected when we loop through our epochs (we only define two here just to show the functionality) and iterate through the DataLoader, we should see our batches of 4 and they shouldn't come out in a defined order.  Our data should come out in different orders (and different batches) in each epoch."
   ]
  },
  {
   "cell_type": "code",
   "execution_count": 28,
   "metadata": {
    "collapsed": true
   },
   "outputs": [],
   "source": [
    "mydset_loader = torch.utils.data.DataLoader(dataset=mydset, \n",
    "                                           batch_size=4, \n",
    "                                           shuffle=True)"
   ]
  },
  {
   "cell_type": "code",
   "execution_count": 29,
   "metadata": {},
   "outputs": [
    {
     "name": "stdout",
     "output_type": "stream",
     "text": [
      "0 0 \n",
      " 136\n",
      " 243\n",
      " 370\n",
      " 312\n",
      "[torch.LongTensor of size 4]\n",
      "\n",
      "0 1 \n",
      " 334\n",
      " 163\n",
      " 191\n",
      " 233\n",
      "[torch.LongTensor of size 4]\n",
      "\n",
      "0 2 \n",
      " 219\n",
      " 329\n",
      " 286\n",
      " 439\n",
      "[torch.LongTensor of size 4]\n",
      "\n",
      "1 0 \n",
      " 136\n",
      " 329\n",
      " 191\n",
      " 233\n",
      "[torch.LongTensor of size 4]\n",
      "\n",
      "1 1 \n",
      " 370\n",
      " 334\n",
      " 312\n",
      " 286\n",
      "[torch.LongTensor of size 4]\n",
      "\n",
      "1 2 \n",
      " 243\n",
      " 439\n",
      " 219\n",
      " 163\n",
      "[torch.LongTensor of size 4]\n",
      "\n"
     ]
    }
   ],
   "source": [
    "for epoch in range(2):   \n",
    "    for batch_index, (inputs, labels) in enumerate(mydset_loader):\n",
    "        print(epoch, batch_index, labels)"
   ]
  },
  {
   "cell_type": "markdown",
   "metadata": {},
   "source": [
    "Sure enough our label clusters come in different orders and organized in different batchs in each epoch.\n",
    "\n",
    "### Splitting out a Validation Set from our Dataset\n",
    "\n",
    "Our problem is that we're given a dataset but not necessary a validation set.  How do we split out a validation set while still being able to use the convenient dataset/dataloader scaffolding that PyTorch provides?\n",
    "\n",
    "We'll take the following approach:\n",
    "\n",
    "* Split our dataset into training set and validation set\n",
    "* Use the indices of the split to create PyTorch Samplers\n",
    "* Feed that sampler into our DataLoaders to tell them which dataset elements to include in their iteration\n",
    "* Iterate over the appropriate DataLoaders in the training/validation loops\n",
    "* Gnome underpants\n"
   ]
  },
  {
   "cell_type": "code",
   "execution_count": 45,
   "metadata": {},
   "outputs": [],
   "source": [
    "## define our indices -- our dataset has 9 elements and we want a 8:4 split\n",
    "num_train = len(mydset)\n",
    "indices = list(range(num_train))\n",
    "split = 4\n",
    "\n",
    "# Random, non-contiguous split\n",
    "validation_idx = np.random.choice(indices, size=split, replace=False)\n",
    "train_idx = list(set(indices) - set(validation_idx))\n",
    "\n",
    "# Contiguous split\n",
    "# train_idx, validation_idx = indices[split:], indices[:split]\n",
    "\n",
    "## define our samplers -- we use a SubsetRandomSampler because it will return\n",
    "## a random subset of the split defined by the given indices without replaf\n",
    "train_sampler = SubsetRandomSampler(train_idx)\n",
    "validation_sampler = SubsetRandomSampler(validation_idx)\n",
    "\n",
    "train_loader = torch.utils.data.DataLoader(mydset, \n",
    "                batch_size=4, sampler=train_sampler)\n",
    "\n",
    "validation_loader = torch.utils.data.DataLoader(mydset, \n",
    "                batch_size=2, sampler=validation_sampler)"
   ]
  },
  {
   "cell_type": "markdown",
   "metadata": {},
   "source": [
    "### Testing our Validation Split\n",
    "\n",
    "OK -- we should have accomplished the first 3 items on our agenda:\n",
    "\n",
    "* Split our dataset into training set and validation set\n",
    "* Use the indices of the split to create PyTorch Samplers\n",
    "* Feed that sampler into our DataLoaders to tell them which dataset elements to include in their iteration\n",
    "\n",
    "Now we kind of glossed over an unexpected problem.  If you define any kind of sampler, you lose the ability to designate shuffle as True in your DataLoader.  For this reason we defined our sampler as a SubsetRandomSampler which should ensure shuffling by its very nature.  If all goes as expected, we should be able to iterate through our train_loader and validation_loader and get segmented results -- elements in the validation loader are not in the train_loader and vice versa.  Furthermore, we should see random shuffling batches from our train_loader just as if we designated shuffle to True.\n",
    "\n",
    "let's test our train_loader:"
   ]
  },
  {
   "cell_type": "code",
   "execution_count": 46,
   "metadata": {},
   "outputs": [
    {
     "name": "stdout",
     "output_type": "stream",
     "text": [
      "0 0 \n",
      " 163\n",
      " 334\n",
      " 136\n",
      " 219\n",
      "[torch.LongTensor of size 4]\n",
      "\n",
      "0 1 \n",
      " 243\n",
      " 329\n",
      " 370\n",
      " 312\n",
      "[torch.LongTensor of size 4]\n",
      "\n",
      "1 0 \n",
      " 329\n",
      " 334\n",
      " 163\n",
      " 243\n",
      "[torch.LongTensor of size 4]\n",
      "\n",
      "1 1 \n",
      " 370\n",
      " 136\n",
      " 312\n",
      " 219\n",
      "[torch.LongTensor of size 4]\n",
      "\n"
     ]
    }
   ],
   "source": [
    "for epoch in range(2):   \n",
    "    for batch_index, (inputs, labels) in enumerate(train_loader):\n",
    "        print(epoch, batch_index, labels)"
   ]
  },
  {
   "cell_type": "markdown",
   "metadata": {},
   "source": [
    "and now our validation_loader:"
   ]
  },
  {
   "cell_type": "code",
   "execution_count": 47,
   "metadata": {},
   "outputs": [
    {
     "name": "stdout",
     "output_type": "stream",
     "text": [
      "0 0 \n",
      " 233\n",
      " 191\n",
      "[torch.LongTensor of size 2]\n",
      "\n",
      "0 1 \n",
      " 439\n",
      " 286\n",
      "[torch.LongTensor of size 2]\n",
      "\n",
      "1 0 \n",
      " 191\n",
      " 233\n",
      "[torch.LongTensor of size 2]\n",
      "\n",
      "1 1 \n",
      " 286\n",
      " 439\n",
      "[torch.LongTensor of size 2]\n",
      "\n"
     ]
    }
   ],
   "source": [
    "for epoch in range(2):   \n",
    "    for batch_index, (inputs, labels) in enumerate(validation_loader):\n",
    "        print(epoch, batch_index, labels)"
   ]
  },
  {
   "cell_type": "markdown",
   "metadata": {},
   "source": [
    "### Testing Conclusions\n",
    "\n",
    "RESULT!! No overlap! Now because we use SubsetRandomSampler for both our train_sampler and our validation_sampler as a side effect we get random shuffling on our validation split.  It's not ideal, but not the end of the world.  Unfortunately there isn't a SubsetSequentialSampler class.  We could write our own sampler class (they're quite easy to implement) but since the downside of random shuffling in our validation split aren't onerous, we'll just use the SubsetRandomSampler as a base class for both samplers.  We have achieved our final two objectives:\n",
    "\n",
    "* Iterate over the appropriate DataLoaders in the training/validation loops\n",
    "* Gnome underpants"
   ]
  },
  {
   "cell_type": "markdown",
   "metadata": {},
   "source": [
    "### Train/Validation Splits on the MNIST Dataset\n",
    "\n",
    "With the above infrastructure in place, we can construct some validation boilerplate code for HW4 Questions 2 and 3 to allow us to create validation sets for MNIST.  Fortunately we don't have to do anything special for the test set, the MNIST code in torchvision already at the right size.  As is, out of the 70K imates in MNIST, the torchvision MNIST dataset  gives us a 60K/10K train/test split.  For the HW we want a 60K/10K/10K train/validation/test split.  You should be able to use the below boilerplate."
   ]
  },
  {
   "cell_type": "code",
   "execution_count": 48,
   "metadata": {},
   "outputs": [],
   "source": [
    "## Define our MNIST Datasets (Images and Labels) for training and testing\n",
    "train_dataset = datasets.MNIST(root='./data', \n",
    "                            train=True, \n",
    "                            transform=transforms.ToTensor(),\n",
    "                            download=True)\n",
    "\n",
    "test_dataset = datasets.MNIST(root='./data', \n",
    "                           train=False, \n",
    "                           transform=transforms.ToTensor())\n",
    "\n",
    "\n",
    "## We need to further split our training dataset into training and validation sets.\n",
    "\n",
    "# Define the indices\n",
    "indices = list(range(len(train_dataset))) # start with all the indices in training set\n",
    "split = 10000 # define the split size\n",
    "\n",
    "# Define your batch_size\n",
    "batch_size = 64\n",
    "\n",
    "# Random, non-contiguous split\n",
    "validation_idx = np.random.choice(indices, size=split, replace=False)\n",
    "train_idx = list(set(indices) - set(validation_idx))\n",
    "\n",
    "# Contiguous split\n",
    "# train_idx, validation_idx = indices[split:], indices[:split]\n",
    "\n",
    "\n",
    "# define our samplers -- we use a SubsetRandomSampler because it will return\n",
    "# a random subset of the split defined by the given indices without replacement\n",
    "train_sampler = SubsetRandomSampler(train_idx)\n",
    "validation_sampler = SubsetRandomSampler(validation_idx)\n",
    "\n",
    "# Create the train_loader -- use your real batch_size which you\n",
    "# I hope have defined somewhere above\n",
    "train_loader = torch.utils.data.DataLoader(dataset=train_dataset, \n",
    "                batch_size=batch_size, sampler=train_sampler)\n",
    "\n",
    "# You can use your above batch_size or just set it to 1 here.  Your validation\n",
    "# operations shouldn't be computationally intensive or require batching.\n",
    "validation_loader = torch.utils.data.DataLoader(dataset=train_dataset, \n",
    "                batch_size=1, sampler=validation_sampler)\n",
    "\n",
    "# You can use your above batch_size or just set it to 1 here.  Your test set\n",
    "# operations shouldn't be computationally intensive or require batching.  We \n",
    "# also turn off shuffling, although that shouldn't affect your test set operations\n",
    "# either\n",
    "test_loader = torch.utils.data.DataLoader(dataset=test_dataset, \n",
    "                                          batch_size=1,\n",
    "                                          shuffle=False)"
   ]
  },
  {
   "cell_type": "markdown",
   "metadata": {},
   "source": [
    "You're done now! :-)"
   ]
  },
  {
   "cell_type": "code",
   "execution_count": 43,
   "metadata": {},
   "outputs": [
    {
     "data": {
      "image/jpeg": "[encoded data removed]",
      "text/html": [
       "\n",
       "        <iframe\n",
       "            width=\"400\"\n",
       "            height=\"300\"\n",
       "            src=\"https://www.youtube.com/embed/iguPncD11bI\"\n",
       "            frameborder=\"0\"\n",
       "            allowfullscreen\n",
       "        ></iframe>\n",
       "        "
      ],
      "text/plain": [
       "<IPython.lib.display.YouTubeVideo at 0x107ea1d30>"
      ]
     },
     "execution_count": 43,
     "metadata": {},
     "output_type": "execute_result"
    }
   ],
   "source": [
    "YouTubeVideo('iguPncD11bI')"
   ]
  },
  {
   "cell_type": "code",
   "execution_count": null,
   "metadata": {
    "collapsed": true
   },
   "outputs": [],
   "source": []
  },
  {
   "cell_type": "code",
   "execution_count": null,
   "metadata": {
    "collapsed": true
   },
   "outputs": [],
   "source": []
  }
 ],
 "metadata": {
  "anaconda-cloud": {},
  "kernelspec": {
   "display_name": "Python 3",
   "language": "python",
   "name": "python3"
  },
  "language_info": {
   "codemirror_mode": {
    "name": "ipython",
    "version": 3
   },
   "file_extension": ".py",
   "mimetype": "text/x-python",
   "name": "python",
   "nbconvert_exporter": "python",
   "pygments_lexer": "ipython3",
   "version": "3.6.2"
  }
 },
 "nbformat": 4,
 "nbformat_minor": 1
}
