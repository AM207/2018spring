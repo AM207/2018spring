{
 "cells": [
  {
   "cell_type": "markdown",
   "metadata": {},
   "source": [
    "# Stratification for Variance Reduction \n",
    "\n",
    "##### Keywords: variance reduction, stratification, "
   ]
  },
  {
   "cell_type": "markdown",
   "metadata": {},
   "source": [
    "## Contents\n",
    "{:.no_toc}\n",
    "* \n",
    "{: toc}"
   ]
  },
  {
   "cell_type": "code",
   "execution_count": 3,
   "metadata": {
    "collapsed": false
   },
   "outputs": [
    {
     "name": "stderr",
     "output_type": "stream",
     "text": [
      "//anaconda/envs/py35/lib/python3.5/site-packages/matplotlib/__init__.py:872: UserWarning: axes.color_cycle is deprecated and replaced with axes.prop_cycle; please use the latter.\n",
      "  warnings.warn(self.msg_depr % (key, alt_key))\n"
     ]
    }
   ],
   "source": [
    "%matplotlib inline\n",
    "import numpy as np\n",
    "import matplotlib.pyplot as plt\n",
    "import seaborn as sns"
   ]
  },
  {
   "cell_type": "markdown",
   "metadata": {},
   "source": [
    "The key idea in stratification is to split the domain on which we wish to calculate an expectation or integral into strata. Then, on each of these strata, we calculate the sub-integral as an expectation separately, using whatever method is appropriate for the stratum, and which gives us the lowest variance. These expectations are then combined together to get the final value.\n",
    "\n",
    "In other words we can achieve better sampling in needed regions by going away from a one size fits all sampling scheme. One way to think about it is that regions with higher variability might need more samples, while not-so-varying regions could make do with less.\n",
    "\n",
    "The diagram below illustrates this a bit. One could stratify by staying on the given grid, but the blue and yellow strata we have chosen might be better.\n",
    "\n",
    "![](images/strat.png)\n",
    "\n",
    "## Why does stratification decrease variance?\n",
    "\n",
    "Intuitively, smaller samples have less variance. And stratification lets us do designer sampling in the strata. But lets do the math...\n",
    "\n",
    "Start by considering a one-dimensional expectation, over some region $D$ (could be [0,1]):\n",
    "\n",
    "$$ \\mu = E_f[h] = \\int_{D} h(x) f(x)\\, dx $$\n",
    "\n",
    "where $f(x)$ is a pdf normalized over the support D.\n",
    "\n",
    "We'll use the notation $\\hat{\\mu}$ to refer to a monte-carlo sample average. The hat ($^$) denotes that it is an estimator of $\\mu$, the \"population\" average (you could think of the infinite limit as the population).\n",
    "\n",
    "Then:\n",
    "\n",
    "$$\\hat{\\mu} =  (1/N) \\sum_{x_k \\sim f} h(x_k); E_R[\\hat{\\mu}] = \\mu.$$\n",
    "\n",
    "Here $E_R[.]$ is the expectation with respect to the sampling (or replications or bootstrap) distribution."
   ]
  },
  {
   "cell_type": "markdown",
   "metadata": {},
   "source": [
    "Now, instead of taking $N$ samples, we break the interval into $M$ _strata_ and take $n_j$ samples for each\n",
    "strata $j$, such that $N=\\sum_j n_j$.\n",
    "\n",
    "$$\\mu = \\int_D h(x) f(x) dx = \\sum_j \\int_{D_j} h(x) f(x) dx$$\n",
    "\n",
    "Define the probability of being in region $D_j$ as $p_j$. Then this must be:\n",
    "\n",
    "$$p_j = \\int_{D_j} f(x) dx$$.\n",
    "\n",
    "We can define a re-normalized pdf in the $j$th strata then as:\n",
    "\n",
    "$$f_j(x) = \\frac{f(x)}{p_j}$$.\n",
    "\n",
    "Then\n",
    "\n",
    "$$\\mu =  \\sum_j p_j \\int_{D_j} h(x) \\frac{f(x)}{p_j} dx = \\sum_j p_j \\mu_j,$$\n",
    "\n",
    "where\n",
    "\n",
    "$$\\mu_j = E_{f_j}[h] = \\int_{D_j} h(x) f_j(x) dx$$\n",
    "\n",
    "is the expectation value under pdf $f_j$ of $h(x)$ in region $D_j$.\n",
    "\n",
    "We can estimate this with monte-carlo by:\n",
    "\n",
    "$$\\hat{\\mu_j} = \\frac{1}{n_j} \\sum_{x_ij \\sim f_j} h(x_ij).$$"
   ]
  },
  {
   "cell_type": "markdown",
   "metadata": {},
   "source": [
    "Let us now define the stratified estimator of the overall expectation\n",
    "\n",
    "$$\\hat{\\mu_s} = \\sum_j p_j \\hat{\\mu_j}.$$\n",
    "\n",
    "Taking the expectation with respect to the sampling distribution then gives us:\n",
    "\n",
    "$$E_R[\\hat{\\mu_s}] = \\sum_j p_j E_R[\\hat{\\mu_j}] = \\sum_j p_j \\mu_j = \\mu$$\n",
    "\n",
    "and thus $\\hat{\\mu_s}$ is an unbiaded estimator of $\\mu$. Yay! We are on the right track.\n",
    "\n",
    "But what about the variance?"
   ]
  },
  {
   "cell_type": "markdown",
   "metadata": {},
   "source": [
    "$$Var_R[\\hat{\\mu_s}] =  Var_R[\\sum_j p_j \\hat{\\mu_j}] =  \\sum_j p_j^2 Var_R[\\hat{\\mu_j}] =  \\sum_j p_j^2 \\frac{\\sigma_j^2}{n_j} $$\n",
    "\n",
    "where\n",
    "\n",
    "$$\\sigma_j^2 = \\int_{D_j}  (h(x) - \\mu_j)^2 f_j(x) dx = \\int_{D_j}  h(x)^2$$\n",
    "\n",
    "is the \"population variance\" of $h(x)$ with respect to pdf $f_j(x)$ in region of support $D_j$."
   ]
  },
  {
   "cell_type": "markdown",
   "metadata": {},
   "source": [
    "How does this variance compare to the variance  of the standrd Monte Carlo estimator $\\hat{\\mu}$? Lets calculate this.\n",
    "\n",
    "$$Var_R[\\hat{\\mu}] = \\frac{\\sigma^2}{N}$$\n",
    "\n",
    "where $\\sigma^2$ is the population variance of $h(x)$ on all of $D$ with respect to pdf $f(x)$.\n",
    "\n",
    "$$Var_R[\\hat{\\mu}] = \\frac{1}{N} \\int_D (h(x) - \\mu)^2 f(x) dx$$\n",
    "\n",
    "$$ = \\frac{1}{N} \\sum_j p_j \\int_{D_j} (h(x) - \\mu)^2 f_j(x) dx =  \\frac{1}{N}  \\sum_j p_j \\left(\\int_{D_j} h(x)^2 f_j(x) dx + \\mu^2 \\int_{D_j}f_j(x) dx -2\\mu\\int_{D_j}h(x)f_j(x)dx \\right)$$"
   ]
  },
  {
   "cell_type": "markdown",
   "metadata": {},
   "source": [
    "$$ Var_R[\\hat{\\mu}] =  \\frac{1}{N}\\left(\\sum_j p_j  \\int_{D_j} h(x)^2 f_j(x) dx  - mu^2 \\right)$$\n",
    "\n",
    "The integral on the right can be substituted for using the formula for $\\sigma_j$ above  and we get:\n",
    "\n",
    "$$ Var_R[\\hat{\\mu}]  = \\frac{1}{N}\\left(\\sum_j p_j [\\sigma_j^2 + \\mu_j^2] - \\mu^2 \\right)$$"
   ]
  },
  {
   "cell_type": "markdown",
   "metadata": {},
   "source": [
    "Now note that we found:\n",
    "\n",
    "$$Var_R[\\hat{\\mu_s}] =  \\sum_j p_j^2 \\frac{\\sigma_j^2}{n_j} $$\n",
    "\n",
    "If we assume (a ok assumption as it allocates samples to the strata on the probability of being there but not based on the variance) that\n",
    "\n",
    "$$n_j = p_j N$$\n",
    "\n",
    "we get:\n",
    "\n",
    "$$ Var_R[\\hat{\\mu}]  = \\frac{1}{N} \\sum_j p_j \\sigma_j^2 + \\frac{1}{N} \\left(\\sum_j p_j \\mu_j^2 - \\mu^2 \\right) $$ which is the  stratified variance plus a quantity that can be be shown to be positive by the cauchy schwartz equality."
   ]
  },
  {
   "cell_type": "markdown",
   "metadata": {},
   "source": [
    "## Example\n",
    "\n",
    "For a  one-dimensional application we take $ x/(x^2+1)$ and integrate from $[0,1]$.\n",
    "We break $[0,10]$ into $M$ strata and for each stratum, take $N/M$ samples\n",
    "with uniform probability distribution. Compute the average within each \n",
    "stratum, and then calculate the overall average. "
   ]
  },
  {
   "cell_type": "code",
   "execution_count": 7,
   "metadata": {
    "collapsed": false
   },
   "outputs": [
    {
     "name": "stderr",
     "output_type": "stream",
     "text": [
      "//anaconda/envs/py35/lib/python3.5/site-packages/ipykernel/__main__.py:37: VisibleDeprecationWarning: using a non-integer number instead of an integer will result in an error in the future\n"
     ]
    },
    {
     "data": {
      "text/plain": [
       "<matplotlib.legend.Legend at 0x1191ab860>"
      ]
     },
     "execution_count": 7,
     "metadata": {},
     "output_type": "execute_result"
    },
    {
     "data": {
      "image/png": "[encoded data removed]",
      "text/plain": [
       "<matplotlib.figure.Figure at 0x119c8eef0>"
      ]
     },
     "metadata": {},
     "output_type": "display_data"
    }
   ],
   "source": [
    "plt.figure(figsize=[14,8])\n",
    "Y = lambda x: x/(x**2+1.0);\n",
    "intY = lambda x: np.log(x**2 + 1.0)/2.0;\n",
    "\n",
    "## Ploting the original functions \n",
    "plt.subplot(1,2,1)\n",
    "x = np.linspace(0,10,100)\n",
    "plt.plot(x, Y(x), label=u'$x/(x**2+1)$')\n",
    "\n",
    "N= 10000\n",
    "Ns = 10   # number of strate \n",
    "\n",
    "xmin=0\n",
    "xmax =10\n",
    "\n",
    "# analytic solution \n",
    "Ic = intY(xmax)-intY(xmin)\n",
    "\n",
    "Imc = np.zeros(N)\n",
    "Is = np.zeros(N)\n",
    "for k in np.arange(0,N):\n",
    " \n",
    "    Umin=0\n",
    "    Umax =10\n",
    "    # First lets do it with mean MC method \n",
    "    U = np.random.uniform(low=Umin, high=Umax, size=N)\n",
    "    Imc[k] = (Umax-Umin)* np.mean(Y(U))\n",
    "\n",
    "    #stratisfied it in Ns regions\n",
    "    step = (Umax-Umin )/M\n",
    "    Umin = 0 \n",
    "    Umax = step\n",
    "    Ii = 0\n",
    "    \n",
    "    \n",
    "    for reg in np.arange(0,M):\n",
    "        x = np.random.uniform(low=Umin, high=Umax, size=1.0*N/Ns);\n",
    "        Ii = Ii+(Umax-Umin)* np.mean(Y(x))\n",
    "        Umin = Umin + step\n",
    "        Umax = Umin + step\n",
    "\n",
    "\n",
    "    Is[k] = Ii\n",
    "\n",
    "plt.subplot(1,2,2)\n",
    "plt.hist(Imc,30, histtype='stepfilled', label=u'Normal MC', alpha=0.1)\n",
    "plt.hist(Is, 30, histtype='stepfilled', label=u'Stratified', alpha=0.5)\n",
    "plt.legend()\n",
    "\n"
   ]
  }
 ],
 "metadata": {
  "anaconda-cloud": {},
  "celltoolbar": "Edit Metadata",
  "kernelspec": {
   "display_name": "Python [default]",
   "language": "python",
   "name": "python3"
  },
  "language_info": {
   "codemirror_mode": {
    "name": "ipython",
    "version": 3
   },
   "file_extension": ".py",
   "mimetype": "text/x-python",
   "name": "python",
   "nbconvert_exporter": "python",
   "pygments_lexer": "ipython3",
   "version": "3.5.2"
  }
 },
 "nbformat": 4,
 "nbformat_minor": 0
}
